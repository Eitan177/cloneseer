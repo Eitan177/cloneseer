{
  "cells": [
    {
      "cell_type": "code",
      "source": [
        "!wget https://ftp.ncbi.nih.gov/blast/executables/igblast/release/LATEST/ncbi-igblast-1.22.0-x64-linux.tar.gz\n",
        "!pip install Bio\n",
        "!git clone https://github.com/Eitan177/cloneseer.git\n",
        "!pip uninstall numpy\n",
        "!pip install numpy==1.23.1\n",
        "!pip install git+https://github.com/aerijman/igblast-parser.git\n",
        "!pip install fastcluster\n",
        "!export IGDATA=\"/content/ncbi-igblast-1.22.0/bin\"\n",
        "!tar -xzvf ncbi-igblast-1.22.0-x64-linux.tar.gz"
      ],
      "metadata": {
        "id": "EKqnvSfGEn12"
      },
      "execution_count": null,
      "outputs": []
    },
    {
      "cell_type": "code",
      "source": [
        "!git clone https://Eitan177:<MyPersonalAccessToken>@github.com/Eitan177/cloneseer.git"
      ],
      "metadata": {
        "colab": {
          "base_uri": "https://localhost:8080/"
        },
        "id": "4sSmvdr7YpYR",
        "outputId": "c4100183-d8b6-487b-c070-3fc10a1c1734"
      },
      "execution_count": 36,
      "outputs": [
        {
          "output_type": "stream",
          "name": "stdout",
          "text": [
            "Cloning into 'cloneseer'...\n",
            "remote: Enumerating objects: 30, done.\u001b[K\n",
            "remote: Counting objects: 100% (30/30), done.\u001b[K\n",
            "remote: Compressing objects: 100% (30/30), done.\u001b[K\n",
            "remote: Total 30 (delta 10), reused 0 (delta 0), pack-reused 0\u001b[K\n",
            "Receiving objects: 100% (30/30), 38.73 KiB | 639.00 KiB/s, done.\n",
            "Resolving deltas: 100% (10/10), done.\n"
          ]
        }
      ]
    },
    {
      "cell_type": "code",
      "source": [
        "import sys\n",
        "import subprocess\n",
        "import pandas as pd\n",
        "from io import StringIO\n",
        "import warnings\n",
        "import numpy as np\n",
        "from Bio import SeqIO\n",
        "import os\n",
        "os.chdir('/content/ncbi-igblast-1.22.0')\n",
        "os.mkdir('database')\n",
        "os.mkdir('database_clean')\n",
        "os.chdir('/content/ncbi-igblast-1.22.0/database')"
      ],
      "metadata": {
        "id": "eIlg6Cz8B5x7"
      },
      "execution_count": 12,
      "outputs": []
    },
    {
      "cell_type": "code",
      "source": [
        "!wget https://www.imgt.org/download/V-QUEST/IMGT_V-QUEST_reference_directory/Homo_sapiens/IG/IGHV.fasta\n",
        "!wget https://www.imgt.org/download/V-QUEST/IMGT_V-QUEST_reference_directory/Homo_sapiens/IG/IGHD.fasta\n",
        "!wget https://www.imgt.org/download/V-QUEST/IMGT_V-QUEST_reference_directory/Homo_sapiens/IG/IGHJ.fasta"
      ],
      "metadata": {
        "id": "o2mtXK0mGhJg"
      },
      "execution_count": null,
      "outputs": []
    },
    {
      "cell_type": "code",
      "source": [
        "os.chdir('/content/ncbi-igblast-1.22.0')"
      ],
      "metadata": {
        "id": "1af3HFsEDtUc"
      },
      "execution_count": null,
      "outputs": []
    },
    {
      "cell_type": "code",
      "execution_count": 13,
      "source": [
        "# cleaning up IMGT germline sequence files\n",
        "input_imgt_ref = 'database/IGHV.fasta'\n",
        "output_imgt_ref = 'database_clean/IGHV_clean.fasta'\n",
        "\n",
        "cmd = ['bin/edit_imgt_file.pl', input_imgt_ref , '>', output_imgt_ref]\n",
        "\n",
        "\n",
        "fh = open(output_imgt_ref, 'w')\n",
        "a = subprocess.Popen(cmd, stdout=fh)\n",
        "a.wait()\n",
        "\n",
        "input_imgt_ref = 'database/IGHD.fasta'\n",
        "output_imgt_ref = 'database_clean/IGHD_clean.fasta'\n",
        "\n",
        "cmd = ['bin/edit_imgt_file.pl', input_imgt_ref , '>', output_imgt_ref]\n",
        "\n",
        "fh = open(output_imgt_ref, 'w')\n",
        "a = subprocess.Popen(cmd, stdout=fh)\n",
        "a.wait()\n",
        "input_imgt_ref = 'database/IGHJ.fasta'\n",
        "output_imgt_ref = 'database_clean/IGHJ_clean.fasta'\n",
        "\n",
        "cmd = ['bin/edit_imgt_file.pl', input_imgt_ref , '>', output_imgt_ref]\n",
        "\n",
        "# display result (and any error) in notebook. No file will be saved\n",
        "# subprocess.run(cmd.split(), capture_output=True)\n",
        "\n",
        "# save cmd output to file\n",
        "fh = open(output_imgt_ref, 'w')\n",
        "a = subprocess.Popen(cmd, stdout=fh)\n",
        "a.wait()\n",
        "cmd = ['bin/makeblastdb', '-parse_seqids', '-dbtype', 'nucl', '-in', '/content/ncbi-igblast-1.22.0/database_clean/IGHD_clean.fasta']\n",
        "\n",
        "a = subprocess.Popen(cmd, stdout=subprocess.PIPE)\n",
        "a.wait()\n",
        "cmd = ['bin/makeblastdb', '-parse_seqids', '-dbtype', 'nucl', '-in', '/content/ncbi-igblast-1.22.0/database_clean/IGHV_clean.fasta']\n",
        "\n",
        "a = subprocess.Popen(cmd, stdout=subprocess.PIPE)\n",
        "a.wait()\n",
        "cmd = ['bin/makeblastdb', '-parse_seqids', '-dbtype', 'nucl', '-in', '/content/ncbi-igblast-1.22.0/database_clean/IGHJ_clean.fasta']\n",
        "\n",
        "a = subprocess.Popen(cmd, stdout=subprocess.PIPE)\n",
        "a.wait()\n",
        "os.chdir('/content/ncbi-igblast-1.22.0')\n",
        "os.mkdir('/content/cloneseer_out')\n",
        "os.chdir('/content/')"
      ],
      "metadata": {
        "pycharm": {
          "name": "#%%\n"
        },
        "colab": {
          "base_uri": "https://localhost:8080/"
        },
        "id": "p5JxY-v1D9uX",
        "outputId": "1e5fcf44-94ad-4536-ea5a-23b9fbfdb440"
      },
      "outputs": [
        {
          "output_type": "execute_result",
          "data": {
            "text/plain": [
              "0"
            ]
          },
          "metadata": {},
          "execution_count": 13
        }
      ]
    },
    {
      "cell_type": "code",
      "source": [
        "!unzip cloneseer/Input_Folder_Rep1.zip\n",
        "!unzip cloneseer/Input_Folder_Rep2.zip"
      ],
      "metadata": {
        "id": "RWk2MFfRQsBs"
      },
      "execution_count": null,
      "outputs": []
    },
    {
      "cell_type": "code",
      "source": [
        "os.chdir('/content/ncbi-igblast-1.22.0')"
      ],
      "metadata": {
        "id": "R0JTk53NHPW_"
      },
      "execution_count": null,
      "outputs": []
    },
    {
      "cell_type": "code",
      "source": [
        "!python /content/cloneseer/lymphotrack_main_local.py --sample_sheet /content/R14-080_R14-081_0701samplesheet.xlsx  --clone_length_fr1 40 --clone_length_fr2 30 --clone_length_fr3 20 --independent_kmer 1 --must_be_identical 0.95 --save_path /content/cloneseer_out --skiprows 0 --AnalyzePositiveControl 0 --Match_Clone_with_FR 0 --readrows 50 --Input_Nanograms 50 --aggregate 0"
      ],
      "metadata": {
        "id": "DEbEt3v9rYOB"
      },
      "execution_count": null,
      "outputs": []
    }
  ],
  "metadata": {
    "kernelspec": {
      "name": "python3",
      "language": "python",
      "display_name": "Python 3"
    },
    "language_info": {
      "codemirror_mode": {
        "name": "ipython",
        "version": 2
      },
      "file_extension": ".py",
      "mimetype": "text/x-python",
      "name": "python",
      "nbconvert_exporter": "python",
      "pygments_lexer": "ipython2",
      "version": "2.7.6"
    },
    "colab": {
      "provenance": []
    }
  },
  "nbformat": 4,
  "nbformat_minor": 0
}